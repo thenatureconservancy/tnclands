{
 "cells": [
  {
   "cell_type": "code",
   "execution_count": 5,
   "metadata": {},
   "outputs": [],
   "source": [
    "#Setup\n",
    "import os\n",
    "import arcpy\n",
    "import pandas as pd"
   ]
  },
  {
   "cell_type": "code",
   "execution_count": 3,
   "metadata": {},
   "outputs": [],
   "source": [
    "#load domains - used to check that all fields that have a domain have valid entries\n",
    "\n",
    "#interest codes\n",
    "tncInt = ['Fee Ownership', 'Conservation Easement', 'Deed Restrictions', 'Deed Restrictions - MonReq', 'Deed Restrictions - NoMon', \n",
    "'Management Lease or greement', 'Timber Lease or Agreement', 'Grazing Lease', 'Grazing Permit', 'Life Estate', \n",
    "'Right of Way Tract', 'Access Right of Way', 'Assist', 'Assist - Fee Ownership', 'Assist - Conservation Easement', \n",
    "'Assist - Deed Restriction', 'Transfer', 'Transfer - Fee Ownership', 'Transfer - Conservation Easement', \n",
    "'Transfer - Deed Restriction', 'Transfer - Life Estate', 'Transfer - Management Lease or Agreement', 'Transfer - Agreement']\n",
    "\n",
    "#GAP codes\n",
    "tncGAPCAT = {'1': 'managed for biodiversity – disturbance events proceed or are mimicked',\n",
    "              '2': 'managed for biodiversity – disturbance events suppressed',\n",
    "              '3': 'managed for multiple uses – subject to extractive (eg. mining or logging) or OHV use',\n",
    "              '4': 'no known mandate for biodiversity protection'}\n",
    "\n",
    "#and others as required"
   ]
  },
  {
   "cell_type": "markdown",
   "metadata": {},
   "source": [
    "Create LRM data frame from LRM spreadsheet"
   ]
  },
  {
   "cell_type": "code",
   "execution_count": 40,
   "metadata": {},
   "outputs": [],
   "source": [
    "#get path to LRM report\n",
    "pathLRM = 'D:/jplatt/projects/TNC_Lands/data/Fee_CE_Assessments/NAR Fee & Eas report 08-30-21.xlsx'"
   ]
  },
  {
   "cell_type": "code",
   "execution_count": 41,
   "metadata": {},
   "outputs": [],
   "source": [
    "dfLRM = pd.read_excel(open(lrmPath, 'rb' ), sheet_name='Sheet1')"
   ]
  },
  {
   "cell_type": "code",
   "execution_count": null,
   "metadata": {},
   "outputs": [],
   "source": [
    "dfLRM.dtypes"
   ]
  },
  {
   "cell_type": "markdown",
   "metadata": {},
   "source": [
    "Convert LRM Tract ID to float data type for later joining"
   ]
  },
  {
   "cell_type": "code",
   "execution_count": 61,
   "metadata": {},
   "outputs": [],
   "source": [
    "dfLRM['LRM Tract ID'] = dfLRM['LRM Tract ID'].astype(float)"
   ]
  },
  {
   "cell_type": "code",
   "execution_count": null,
   "metadata": {},
   "outputs": [],
   "source": [
    "dfLRM.dtypes"
   ]
  },
  {
   "cell_type": "markdown",
   "metadata": {},
   "source": [
    "Create geodatabase feature class data frame"
   ]
  },
  {
   "cell_type": "code",
   "execution_count": 43,
   "metadata": {},
   "outputs": [],
   "source": [
    "#set path to file geodatabase\n",
    "gdbPath = 'D:/jplatt/projects/TNC_Lands/data/TNC_Lands_working.gdb'"
   ]
  },
  {
   "cell_type": "code",
   "execution_count": 44,
   "metadata": {},
   "outputs": [],
   "source": [
    "#set path to TNC Lands data\n",
    "tncLandsPath = os.path.join(gdbPath, 'TNC_Lands_Base')"
   ]
  },
  {
   "cell_type": "code",
   "execution_count": 45,
   "metadata": {},
   "outputs": [],
   "source": [
    "field_names = [i.name for i in arcpy.ListFields(tncLandsPath) if i.name not in ['OID', 'OBJECTID', 'GlobalID', \n",
    "'Shape', 'Shape_Length', 'Shape_Area'] ]"
   ]
  },
  {
   "cell_type": "code",
   "execution_count": null,
   "metadata": {},
   "outputs": [],
   "source": [
    "print(field_names)"
   ]
  },
  {
   "cell_type": "code",
   "execution_count": 46,
   "metadata": {},
   "outputs": [],
   "source": [
    "cursor = arcpy.da.SearchCursor(tncLandsPath, field_names)"
   ]
  },
  {
   "cell_type": "code",
   "execution_count": 47,
   "metadata": {},
   "outputs": [],
   "source": [
    "dfTNCL = pd.DataFrame(data=[row for row in cursor], columns=field_names)"
   ]
  },
  {
   "cell_type": "code",
   "execution_count": null,
   "metadata": {},
   "outputs": [],
   "source": [
    "dfTNCL.dtypes\n",
    "#print(dfTNCL"
   ]
  },
  {
   "cell_type": "code",
   "execution_count": 29,
   "metadata": {},
   "outputs": [],
   "source": [
    "dfTNCL_sorted = dfTNCL.drop_duplicates('LRM_TR_ID', keep=False, inplace=True)"
   ]
  },
  {
   "cell_type": "code",
   "execution_count": null,
   "metadata": {},
   "outputs": [],
   "source": [
    "#print(dfTNCL)\n",
    "print(dfLRM)"
   ]
  }
 ],
 "metadata": {
  "interpreter": {
   "hash": "7ee7765acde157d0553d062bf8a3e932bd58abec0090ecc73906b90319e40bff"
  },
  "kernelspec": {
   "display_name": "Python 3.7.10 64-bit (system)",
   "name": "python3"
  },
  "language_info": {
   "codemirror_mode": {
    "name": "ipython",
    "version": 3
   },
   "file_extension": ".py",
   "mimetype": "text/x-python",
   "name": "python",
   "nbconvert_exporter": "python",
   "pygments_lexer": "ipython3",
   "version": "3.7.10"
  },
  "orig_nbformat": 4
 },
 "nbformat": 4,
 "nbformat_minor": 2
}
