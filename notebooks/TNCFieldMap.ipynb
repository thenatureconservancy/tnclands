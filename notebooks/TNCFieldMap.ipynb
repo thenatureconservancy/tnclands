{
    "cells": [
        {
            "cell_type": "code",
            "execution_count": null,
            "source": [
                "import arcpy"
            ],
            "outputs": [],
            "metadata": {}
        },
        {
            "cell_type": "code",
            "execution_count": null,
            "source": [
                "arcpy.env.workspace = 'D:/jplatt/data/scratch/test.gdb'\r\n",
                "fc_source = 'fm_source_1'\r\n",
                "fc_target = 'fm_source_2'\r\n",
                "\r\n",
                "source_fieldmappings = arcpy.FieldMappings()\r\n",
                "source_fieldmappings.addTable(fc_source)\r\n",
                "\r\n",
                "target_fieldmappings = arcpy.FieldMappings()\r\n",
                "target_fieldmappings.addTable(fc_target)"
            ],
            "outputs": [],
            "metadata": {}
        },
        {
            "cell_type": "code",
            "execution_count": null,
            "source": [
                "for fm in source_fieldmappings:\r\n",
                "    outfld = fm.outputField\r\n",
                "    fldName = outfld.name\r\n",
                "    fldType = outfld.type\r\n",
                "    print(fldName, fldType)\r\n",
                "\r\n",
                "for fm in target_fieldmappings:\r\n",
                "    outfld = fm.outputField\r\n",
                "    fldName = outfld.name\r\n",
                "    fldType = outfld.type\r\n",
                "    print(fldName, fldType)    "
            ],
            "outputs": [],
            "metadata": {}
        },
        {
            "cell_type": "code",
            "execution_count": null,
            "source": [
                "vTab = arcpy.ValueTable()\r\n",
                "\r\n",
                "fieldmappings = arcpy.FieldMappings()\r\n",
                "fldmap_F1 = arcpy.FieldMap()\r\n",
                "fldmap_F2 = arcpy.FieldMap()\r\n",
                "fldmap_F3 = arcpy.FieldMap()\r\n",
                "\r\n",
                "fieldmappings.addTable(fc_source)\r\n",
                "fldmap_F1.addInputField(fc_source, 'F1')\r\n",
                "fldmap_F2.addInputField(fc_source, 'F2')\r\n",
                "fldmap_F2.addInputField(fc_source, 'F3')\r\n",
                "\r\n",
                "vTab.addRow(fc_source)\r\n",
                "print(vTab.rowCount, vTab.columnCount)"
            ],
            "outputs": [],
            "metadata": {}
        }
    ],
    "metadata": {
        "orig_nbformat": 4,
        "language_info": {
            "name": "python"
        }
    },
    "nbformat": 4,
    "nbformat_minor": 2
}