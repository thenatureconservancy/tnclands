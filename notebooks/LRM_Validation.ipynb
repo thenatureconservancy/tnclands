{
 "cells": [
  {
   "cell_type": "code",
   "execution_count": 1,
   "metadata": {},
   "outputs": [],
   "source": [
    "#Setup\n",
    "import os\n",
    "import arcpy"
   ]
  },
  {
   "cell_type": "code",
   "execution_count": 2,
   "metadata": {},
   "outputs": [],
   "source": [
    "#environment variables\n",
    "arcpy.env.overwriteOutput = True"
   ]
  },
  {
   "cell_type": "code",
   "execution_count": 3,
   "metadata": {},
   "outputs": [],
   "source": [
    "#load domains - used to check that all fields that have a domain have valid entries\n",
    "\n",
    "#interest codes\n",
    "tncInt = ['Fee Ownership', 'Conservation Easement', 'Deed Restrictions', 'Deed Restrictions - MonReq', 'Deed Restrictions - NoMon', \n",
    "'Management Lease or greement', 'Timber Lease or Agreement', 'Grazing Lease', 'Grazing Permit', 'Life Estate', \n",
    "'Right of Way Tract', 'Access Right of Way', 'Assist', 'Assist - Fee Ownership', 'Assist - Conservation Easement', \n",
    "'Assist - Deed Restriction', 'Transfer', 'Transfer - Fee Ownership', 'Transfer - Conservation Easement', \n",
    "'Transfer - Deed Restriction', 'Transfer - Life Estate', 'Transfer - Management Lease or Agreement', 'Transfer - Agreement']\n",
    "\n",
    "#GAP codes\n",
    "tnc_GAPCAT = {'1': 'managed for biodiversity – disturbance events proceed or are mimicked',\n",
    "              '2': 'managed for biodiversity – disturbance events suppressed',\n",
    "              '3': 'managed for multiple uses – subject to extractive (eg. mining or logging) or OHV use',\n",
    "              '4': 'no known mandate for biodiversity protection'}\n",
    "\n",
    "#and others as required"
   ]
  },
  {
   "cell_type": "code",
   "execution_count": 4,
   "metadata": {},
   "outputs": [],
   "source": [
    "#get path to LRM report\n",
    "lrmPath = 'D:/jplatt/projects/TNC_Lands/data/Fee_CE_Assessments/NAR Fee & Eas report 08-30-21.xlsx'"
   ]
  },
  {
   "cell_type": "code",
   "execution_count": 5,
   "metadata": {},
   "outputs": [],
   "source": [
    "#set path to file geodatabase\n",
    "gdbPath = 'D:/jplatt/projects/TNC_Lands/data/TNC_Lands_working.gdb'"
   ]
  },
  {
   "cell_type": "code",
   "execution_count": 6,
   "metadata": {},
   "outputs": [],
   "source": [
    "#set path to TNC Lands data\n",
    "tncLandsPath = os.path.join(gdbPath, 'TNC_Lands_Base')"
   ]
  },
  {
   "cell_type": "code",
   "execution_count": 7,
   "metadata": {},
   "outputs": [
    {
     "data": {
      "text/html": [
       "<h2>Output</h2>D:\\jplatt\\projects\\TNC_Lands\\data\\TNC_Lands_working.gdb\\lrmReport<h2>Messages</h2>Start Time: Monday, October 18, 2021 1:18:26 PM<br/>Succeeded at Monday, October 18, 2021 1:18:36 PM (Elapsed Time: 10.44 seconds)<br/><style>.rendered_html td, .rendered_html th {text-align: left;}.rendered_html tbody {border: 1px solid black;}</style>"
      ],
      "text/plain": [
       "<Result 'D:\\\\jplatt\\\\projects\\\\TNC_Lands\\\\data\\\\TNC_Lands_working.gdb\\\\lrmReport'>"
      ]
     },
     "execution_count": 7,
     "metadata": {},
     "output_type": "execute_result"
    }
   ],
   "source": [
    "#create table view on LRM report\n",
    "if arcpy.Exists(os.path.join(gdbPath, 'lrmReport')):\n",
    "    try:\n",
    "        arcpy.Delete_management(os.path.join(gdbPath, 'lrmReport'))\n",
    "    except arcpy.ExecuteError:\n",
    "        print(arcpy.GetMessages(2))\n",
    "    except Exception as e:\n",
    "        print(e.args[0])\n",
    "\n",
    "arcpy.ExcelToTable_conversion(lrmPath, os.path.join(gdbPath, 'lrmReport'), 'Sheet1')"
   ]
  },
  {
   "cell_type": "code",
   "execution_count": 8,
   "metadata": {},
   "outputs": [],
   "source": [
    "indexes = arcpy.ListIndexes(os.path.join(gdbPath, 'lrmReport'))\n",
    "try:\n",
    "    if 'indx_trID' not in indexes: \n",
    "        arcpy.AddIndex_management(os.path.join(gdbPath, 'lrmReport'), ['LRM_Tract_ID'], 'indx_trID')\n",
    "    else:\n",
    "        arcpy.RemoveIndex_management(os.path.join(gdbPath, 'lrmReport'), ['LRM_Tract_ID'])\n",
    "        arcpy.AddIndex_management(os.path.join(gdbPath, 'lrmReport'), ['LRM_Tract_ID'], 'indx_trID')\n",
    "except arcpy.ExecuteError:\n",
    "    print(arcpy.GetMessages(2))\n",
    "except Exception as e:\n",
    "    print(e.args[0])\n"
   ]
  },
  {
   "cell_type": "code",
   "execution_count": 26,
   "metadata": {},
   "outputs": [
    {
     "name": "stdout",
     "output_type": "stream",
     "text": [
      "1000000 Institute of Range and the American Mustang (IRAM) 2\n",
      "1000001 Wesleyan School\n",
      "1000016 Hutton\n",
      "1000025 South Dakota Office of School & Public Lands (fka South Dakota Parks & Wildlife Foundation)\n",
      "1000128 Hauer 1\n",
      "1000193 BHL Capital Corp. 1 (CalSD, LLC)\n"
     ]
    }
   ],
   "source": [
    "#create search cursor on LRM report\n",
    "state = 'SD'\n",
    "tractIDs = [1000000,1000001,1000016,1000025,1000128,1000193]\n",
    "for tractid in tractIDs:\n",
    "    lrmCursor = arcpy.SearchCursor(os.path.join(gdbPath, 'lrmReport'), f\"Primary_Geocode = '{state}' AND LRM_Tract_ID = {tractid}\")\n",
    "\n",
    "#arcpy.management.SelectLayerByAttribute(\"lrmReport\", \"NEW_SELECTION\", \"Primary_Geocode = 'SD'\", None)\n",
    "\n",
    "    for row in lrmCursor:\n",
    "        tractID = row.getValue('LRM_Tract_ID')\n",
    "        tractnm = row.getValue('Tract_Name')\n",
    "        print(tractID, tractnm)\n"
   ]
  },
  {
   "cell_type": "code",
   "execution_count": null,
   "metadata": {},
   "outputs": [],
   "source": [
    "#create search cursor on TNC Lands table"
   ]
  },
  {
   "cell_type": "code",
   "execution_count": null,
   "metadata": {},
   "outputs": [],
   "source": [
    "#iterate over the LRM report\n",
    "#select matching TNC Lands records\n",
    "#start checking LRM fields"
   ]
  }
 ],
 "metadata": {
  "interpreter": {
   "hash": "7ee7765acde157d0553d062bf8a3e932bd58abec0090ecc73906b90319e40bff"
  },
  "kernelspec": {
   "display_name": "Python 3.7.10 64-bit (system)",
   "name": "python3"
  },
  "language_info": {
   "codemirror_mode": {
    "name": "ipython",
    "version": 3
   },
   "file_extension": ".py",
   "mimetype": "text/x-python",
   "name": "python",
   "nbconvert_exporter": "python",
   "pygments_lexer": "ipython3",
   "version": "3.7.10"
  },
  "orig_nbformat": 4
 },
 "nbformat": 4,
 "nbformat_minor": 2
}
