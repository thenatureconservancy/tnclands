{
    "cells": [
        {
            "cell_type": "code",
            "execution_count": 1,
            "source": [
                "import arcpy\r\n",
                "arcpy.env.workspace = \"D:/jplatt/code/python/tnclands/archive/Programing_ArcGIS_with_Python_Cookbook_Code/data\"\r\n",
                "outFeatureClass = \"D:/jplatt/code/python/tnclands/archive/Programing_ArcGIS_with_Python_Cookbook_Code/data\"\r\n"
            ],
            "outputs": [],
            "metadata": {}
        },
        {
            "cell_type": "code",
            "execution_count": 2,
            "source": [
                "# Create a fieldmappings adding the three new fields\r\n",
                "fieldmappings = arcpy.FieldMappings()\r\n",
                "fldmap_STFIPS = arcpy.FieldMap()\r\n",
                "fldmap_COFIPS = arcpy.FieldMap()\r\n",
                "fldmap_TRACT = arcpy.FieldMap()\r\n",
                "\r\n",
                "# List all feature classes that start with 'County' and type Polygon\r\n",
                "fclss = arcpy.ListFeatureClasses(\"County*\", \"Polygon\")\r\n"
            ],
            "outputs": [],
            "metadata": {}
        },
        {
            "cell_type": "code",
            "execution_count": 3,
            "source": [
                "\r\n",
                "# Create a value table with the FC to merge\r\n",
                "vTab = arcpy.ValueTable()\r\n",
                "for fc in fclss:\r\n",
                "    fieldmappings.addTable(fc)\r\n",
                "    fldmap_STFIPS.addInputField(fc, \"STFID\")\r\n",
                "    fldmap_COFIPS.addInputField(fc, \"STFID\")\r\n",
                "    fldmap_TRACT.addInputField(fc, \"STFID\")\r\n",
                "    vTab.addRow(fc)\r\n"
            ],
            "outputs": [],
            "metadata": {}
        },
        {
            "cell_type": "code",
            "execution_count": 4,
            "source": [
                "\r\n",
                "# Set Starting and ending point from the input as well as the name of the output fields \r\n",
                "# STFIPS field\r\n",
                "for x in range(0, fldmap_STFIPS.inputFieldCount):\r\n",
                "    fldmap_STFIPS.setStartTextPosition(x, 0)\r\n",
                "    fldmap_STFIPS.setEndTextPosition(x, 1)\r\n",
                "\r\n",
                "fld_STFIPS = fldmap_STFIPS.outputField\r\n",
                "fld_STFIPS.name = \"STFIPS\"\r\n",
                "fldmap_STFIPS.outputField = fld_STFIPS\r\n",
                "\r\n",
                "# COFIPS field\r\n",
                "for x in range(0, fldmap_COFIPS.inputFieldCount):\r\n",
                "    fldmap_COFIPS.setStartTextPosition(x, 2)\r\n",
                "    fldmap_COFIPS.setEndTextPosition(x, 4)\r\n",
                "\r\n",
                "fld_COFIPS = fldmap_COFIPS.outputField\r\n",
                "fld_COFIPS.name = \"COFIPS\"\r\n",
                "fldmap_COFIPS.outputField = fld_COFIPS\r\n"
            ],
            "outputs": [],
            "metadata": {}
        },
        {
            "cell_type": "code",
            "execution_count": 6,
            "source": [
                "# TRACT field\r\n",
                "for x in range(0, fldmap_TRACT.inputFieldCount):\r\n",
                "    fldmap_TRACT.setStartTextPosition(x, 5)\r\n",
                "    fldmap_TRACT.setEndTextPosition(x, 12)\r\n",
                "\r\n",
                "fld_TRACT = fldmap_TRACT.outputField\r\n",
                "fld_TRACT.name = \"TRACT\"\r\n",
                "fldmap_TRACT.outputField = fld_TRACT\r\n",
                "\r\n",
                "# Add fieldmaps into the fieldmappings object\r\n",
                "fieldmappings.addFieldMap(fldmap_STFIPS)\r\n",
                "fieldmappings.addFieldMap(fldmap_COFIPS)\r\n",
                "fieldmappings.addFieldMap(fldmap_TRACT)\r\n"
            ],
            "outputs": [],
            "metadata": {}
        },
        {
            "cell_type": "code",
            "execution_count": 7,
            "source": [
                "\r\n",
                "# Run the merge tool\r\n",
                "arcpy.Merge_management(vTab, outFeatureClass, fieldmappings)\r\n",
                "\r\n",
                "print(\"Merge completed\")"
            ],
            "outputs": [
                {
                    "output_type": "error",
                    "ename": "ExecuteError",
                    "evalue": "Failed to execute. Parameters are not valid.\nERROR 000840: The value is not a Table View.\nERROR 000840: The value is not a Table View.\nERROR 000840: The value is not a Table View.\nERROR 000840: The value is not a Table View.\nERROR 000840: The value is not a Table View.\nERROR 000840: The value is not a Table View.\nERROR 000840: The value is not a Table View.\nERROR 000725: Output Dataset: Dataset D:\\jplatt\\code\\python\\tnclands\\archive\\Programing_ArcGIS_with_Python_Cookbook_Code\\data already exists.\nFailed to execute (Merge).\n",
                    "traceback": [
                        "\u001b[1;31m---------------------------------------------------------------------------\u001b[0m",
                        "\u001b[1;31mExecuteError\u001b[0m                              Traceback (most recent call last)",
                        "\u001b[1;32m<ipython-input-7-6b812c93036f>\u001b[0m in \u001b[0;36m<module>\u001b[1;34m\u001b[0m\n\u001b[0;32m      1\u001b[0m \u001b[1;31m# Run the merge tool\u001b[0m\u001b[1;33m\u001b[0m\u001b[1;33m\u001b[0m\u001b[1;33m\u001b[0m\u001b[0m\n\u001b[1;32m----> 2\u001b[1;33m \u001b[0marcpy\u001b[0m\u001b[1;33m.\u001b[0m\u001b[0mMerge_management\u001b[0m\u001b[1;33m(\u001b[0m\u001b[0mvTab\u001b[0m\u001b[1;33m,\u001b[0m \u001b[0moutFeatureClass\u001b[0m\u001b[1;33m,\u001b[0m \u001b[0mfieldmappings\u001b[0m\u001b[1;33m)\u001b[0m\u001b[1;33m\u001b[0m\u001b[1;33m\u001b[0m\u001b[0m\n\u001b[0m\u001b[0;32m      3\u001b[0m \u001b[1;33m\u001b[0m\u001b[0m\n\u001b[0;32m      4\u001b[0m \u001b[0mprint\u001b[0m\u001b[1;33m(\u001b[0m\u001b[1;34m\"Merge completed\"\u001b[0m\u001b[1;33m)\u001b[0m\u001b[1;33m\u001b[0m\u001b[1;33m\u001b[0m\u001b[0m\n",
                        "\u001b[1;32mC:\\Program Files\\ArcGIS\\Pro\\Resources\\ArcPy\\arcpy\\management.py\u001b[0m in \u001b[0;36mMerge\u001b[1;34m(inputs, output, field_mappings, add_source)\u001b[0m\n\u001b[0;32m   6508\u001b[0m         \u001b[1;32mreturn\u001b[0m \u001b[0mretval\u001b[0m\u001b[1;33m\u001b[0m\u001b[1;33m\u001b[0m\u001b[0m\n\u001b[0;32m   6509\u001b[0m     \u001b[1;32mexcept\u001b[0m \u001b[0mException\u001b[0m \u001b[1;32mas\u001b[0m \u001b[0me\u001b[0m\u001b[1;33m:\u001b[0m\u001b[1;33m\u001b[0m\u001b[1;33m\u001b[0m\u001b[0m\n\u001b[1;32m-> 6510\u001b[1;33m         \u001b[1;32mraise\u001b[0m \u001b[0me\u001b[0m\u001b[1;33m\u001b[0m\u001b[1;33m\u001b[0m\u001b[0m\n\u001b[0m\u001b[0;32m   6511\u001b[0m \u001b[1;33m\u001b[0m\u001b[0m\n\u001b[0;32m   6512\u001b[0m \u001b[1;33m@\u001b[0m\u001b[0mgptooldoc\u001b[0m\u001b[1;33m(\u001b[0m\u001b[1;34m'Rename_management'\u001b[0m\u001b[1;33m,\u001b[0m \u001b[1;32mNone\u001b[0m\u001b[1;33m)\u001b[0m\u001b[1;33m\u001b[0m\u001b[1;33m\u001b[0m\u001b[0m\n",
                        "\u001b[1;32mC:\\Program Files\\ArcGIS\\Pro\\Resources\\ArcPy\\arcpy\\management.py\u001b[0m in \u001b[0;36mMerge\u001b[1;34m(inputs, output, field_mappings, add_source)\u001b[0m\n\u001b[0;32m   6505\u001b[0m     \u001b[1;32mfrom\u001b[0m \u001b[0marcpy\u001b[0m\u001b[1;33m.\u001b[0m\u001b[0marcobjects\u001b[0m\u001b[1;33m.\u001b[0m\u001b[0marcobjectconversion\u001b[0m \u001b[1;32mimport\u001b[0m \u001b[0mconvertArcObjectToPythonObject\u001b[0m\u001b[1;33m\u001b[0m\u001b[1;33m\u001b[0m\u001b[0m\n\u001b[0;32m   6506\u001b[0m     \u001b[1;32mtry\u001b[0m\u001b[1;33m:\u001b[0m\u001b[1;33m\u001b[0m\u001b[1;33m\u001b[0m\u001b[0m\n\u001b[1;32m-> 6507\u001b[1;33m         \u001b[0mretval\u001b[0m \u001b[1;33m=\u001b[0m \u001b[0mconvertArcObjectToPythonObject\u001b[0m\u001b[1;33m(\u001b[0m\u001b[0mgp\u001b[0m\u001b[1;33m.\u001b[0m\u001b[0mMerge_management\u001b[0m\u001b[1;33m(\u001b[0m\u001b[1;33m*\u001b[0m\u001b[0mgp_fixargs\u001b[0m\u001b[1;33m(\u001b[0m\u001b[1;33m(\u001b[0m\u001b[0minputs\u001b[0m\u001b[1;33m,\u001b[0m \u001b[0moutput\u001b[0m\u001b[1;33m,\u001b[0m \u001b[0mfield_mappings\u001b[0m\u001b[1;33m,\u001b[0m \u001b[0madd_source\u001b[0m\u001b[1;33m)\u001b[0m\u001b[1;33m,\u001b[0m \u001b[1;32mTrue\u001b[0m\u001b[1;33m)\u001b[0m\u001b[1;33m)\u001b[0m\u001b[1;33m)\u001b[0m\u001b[1;33m\u001b[0m\u001b[1;33m\u001b[0m\u001b[0m\n\u001b[0m\u001b[0;32m   6508\u001b[0m         \u001b[1;32mreturn\u001b[0m \u001b[0mretval\u001b[0m\u001b[1;33m\u001b[0m\u001b[1;33m\u001b[0m\u001b[0m\n\u001b[0;32m   6509\u001b[0m     \u001b[1;32mexcept\u001b[0m \u001b[0mException\u001b[0m \u001b[1;32mas\u001b[0m \u001b[0me\u001b[0m\u001b[1;33m:\u001b[0m\u001b[1;33m\u001b[0m\u001b[1;33m\u001b[0m\u001b[0m\n",
                        "\u001b[1;32mC:\\Program Files\\ArcGIS\\Pro\\Resources\\ArcPy\\arcpy\\geoprocessing\\_base.py\u001b[0m in \u001b[0;36m<lambda>\u001b[1;34m(*args)\u001b[0m\n\u001b[0;32m    510\u001b[0m         \u001b[0mval\u001b[0m \u001b[1;33m=\u001b[0m \u001b[0mgetattr\u001b[0m\u001b[1;33m(\u001b[0m\u001b[0mself\u001b[0m\u001b[1;33m.\u001b[0m\u001b[0m_gp\u001b[0m\u001b[1;33m,\u001b[0m \u001b[0mattr\u001b[0m\u001b[1;33m)\u001b[0m\u001b[1;33m\u001b[0m\u001b[1;33m\u001b[0m\u001b[0m\n\u001b[0;32m    511\u001b[0m         \u001b[1;32mif\u001b[0m \u001b[0mcallable\u001b[0m\u001b[1;33m(\u001b[0m\u001b[0mval\u001b[0m\u001b[1;33m)\u001b[0m\u001b[1;33m:\u001b[0m\u001b[1;33m\u001b[0m\u001b[1;33m\u001b[0m\u001b[0m\n\u001b[1;32m--> 512\u001b[1;33m             \u001b[1;32mreturn\u001b[0m \u001b[1;32mlambda\u001b[0m \u001b[1;33m*\u001b[0m\u001b[0margs\u001b[0m\u001b[1;33m:\u001b[0m \u001b[0mval\u001b[0m\u001b[1;33m(\u001b[0m\u001b[1;33m*\u001b[0m\u001b[0mgp_fixargs\u001b[0m\u001b[1;33m(\u001b[0m\u001b[0margs\u001b[0m\u001b[1;33m,\u001b[0m \u001b[1;32mTrue\u001b[0m\u001b[1;33m)\u001b[0m\u001b[1;33m)\u001b[0m\u001b[1;33m\u001b[0m\u001b[1;33m\u001b[0m\u001b[0m\n\u001b[0m\u001b[0;32m    513\u001b[0m         \u001b[1;32melse\u001b[0m\u001b[1;33m:\u001b[0m\u001b[1;33m\u001b[0m\u001b[1;33m\u001b[0m\u001b[0m\n\u001b[0;32m    514\u001b[0m             \u001b[1;32mreturn\u001b[0m \u001b[0mconvertArcObjectToPythonObject\u001b[0m\u001b[1;33m(\u001b[0m\u001b[0mval\u001b[0m\u001b[1;33m)\u001b[0m\u001b[1;33m\u001b[0m\u001b[1;33m\u001b[0m\u001b[0m\n",
                        "\u001b[1;31mExecuteError\u001b[0m: Failed to execute. Parameters are not valid.\nERROR 000840: The value is not a Table View.\nERROR 000840: The value is not a Table View.\nERROR 000840: The value is not a Table View.\nERROR 000840: The value is not a Table View.\nERROR 000840: The value is not a Table View.\nERROR 000840: The value is not a Table View.\nERROR 000840: The value is not a Table View.\nERROR 000725: Output Dataset: Dataset D:\\jplatt\\code\\python\\tnclands\\archive\\Programing_ArcGIS_with_Python_Cookbook_Code\\data already exists.\nFailed to execute (Merge).\n"
                    ]
                }
            ],
            "metadata": {}
        }
    ],
    "metadata": {
        "orig_nbformat": 4,
        "language_info": {
            "name": "python",
            "version": "3.7.10",
            "mimetype": "text/x-python",
            "codemirror_mode": {
                "name": "ipython",
                "version": 3
            },
            "pygments_lexer": "ipython3",
            "nbconvert_exporter": "python",
            "file_extension": ".py"
        },
        "kernelspec": {
            "name": "python3",
            "display_name": "Python 3.7.10 64-bit (system)"
        },
        "interpreter": {
            "hash": "7ee7765acde157d0553d062bf8a3e932bd58abec0090ecc73906b90319e40bff"
        }
    },
    "nbformat": 4,
    "nbformat_minor": 2
}