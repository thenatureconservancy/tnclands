{
    "cells": [
        {
            "cell_type": "markdown",
            "metadata": {},
            "source": [
                "## Name: arcpy_example.ipynb\n",
                "### Description: This is the example from the ArcGIS Pro arcpy user page.\n",
                "###              It demonstrates using the merge geoprocessing tool and using field mapping\n"
            ]
        },
        {
            "cell_type": "markdown",
            "metadata": {},
            "source": [
                "Import arcpy modules, assign basic environment settings, define variables"
            ]
        },
        {
            "cell_type": "markdown",
            "metadata": {},
            "source": [
                "### This is just a test to make sure I understand how it works when using the tool.\n",
                "The python tool syntax for a simple merge"
            ]
        },
        {
            "cell_type": "code",
            "execution_count": null,
            "metadata": {},
            "outputs": [],
            "source": [
                "fieldMappings = 'F1 \"F1\" true true false 2 Short 0 0,First,#,fm_source_1,F1,-1,-1,fm_source_2,FA,-1,-1; \\\n",
                "F2 \"F2\" true true false 8 Double 0 0,First,#,fm_source_1,F2,-1,-1,fm_source_2,FB,-1,-1; \\\n",
                "F3 \"F3\" true true false 50 Text 0 0,First,#,fm_source_1,F3,0,50,fm_source_2,FC,0,50; \\\n",
                "SHAPE_Length \"SHAPE_Length\" false true true 8 Double 0,First,#,fm_source_1,SHAPE_Length,-1,-1,fm_source_2,SHAPE_Length,-1,-1; \\\n",
                "SHAPE_Area \"SHAPE_Area\" false true true 8 Double 0 0,First,#,fm_source_1,SHAPE_Area,-1,-1,fm_source_2,SHAPE_Area,-1,-1'\n",
                "\n",
                "arcpy.Merge_management(inputs=['fm_source_1', 'fm_source_2'], \n",
                "output='fm_merge_1', \n",
                "field_mappings=fieldMappings, \\\n",
                "add_source='ADD_SOURCE_INFO')"
            ]
        },
        {
            "cell_type": "markdown",
            "metadata": {},
            "source": [
                "A merge with the input field contents going into fields with different names."
            ]
        },
        {
            "cell_type": "code",
            "execution_count": null,
            "metadata": {},
            "outputs": [],
            "source": [
                "fieldmappings = 'Field_1 \"Field_1\" true true false 2 Short 0 0,First,#,fm_source_1,F1,-1,-1,fm_source_2,FA,-1,-1; \\\n",
                "Field_2 \"Field_2\" true true false 8 Double 0 0,First,#,fm_source_1,F2,-1,-1,fm_source_2,FB,-1,-1; \\\n",
                "Field_3 \"Field_3\" true true false 50 Text 0 0,First,#,fm_source_1,F3,0,50,fm_source_2,FC,0,50; \\\n",
                "SHAPE_Length \"SHAPE_Length\" false true true 8 Double 0,First,#,fm_source_1,SHAPE_Length,-1,-1,fm_source_2,SHAPE_Length,-1,-1; \\\n",
                "SHAPE_Area \"SHAPE_Area\" false true true 8 Double 0 0,First,#,fm_source_1,SHAPE_Area,-1,-1,fm_source_2,SHAPE_Area,-1,-1'\n",
                "\n",
                "arcpy.Merge_management(inputs=['fm_source_1', 'fm_source_2'], \n",
                "output='fm_merge_2', \n",
                "field_mappings= fieldmappings, \\\n",
                "add_source='ADD_SOURCE_INFO')"
            ]
        },
        {
            "cell_type": "markdown",
            "metadata": {},
            "source": [
                "Field mappings as used in an append.  Note the change from 'field_mappings' to 'field_mapping'.  Not sure why."
            ]
        },
        {
            "cell_type": "code",
            "execution_count": null,
            "metadata": {},
            "outputs": [],
            "source": [
                "fieldmapping = 'F1 \"F1\" true true false 2 Short 0 0,First,#,fm_source_2,FA,-1,-1; \\\n",
                "F2 \"F2\" true true false 8 Double 0 0,First,#,fm_source_2,FB,-1,-1; \\\n",
                "F3 \"F3\" true true false 50 Text 0 0,First,#,fm_source_2,FC,0,50'\n",
                "\n",
                "arcpy.management.Append(inputs=[\"fm_source_2\"],\n",
                "target=\"D:/jplatt/data/scratch/test.gdb/fm_append_1\", \n",
                "schema_type=\"NO_TEST\", \n",
                "field_mapping=fieldmapping, \n",
                "subtype='', \n",
                "expression='')"
            ]
        },
        {
            "cell_type": "markdown",
            "metadata": {},
            "source": [
                "The following are working code snippets that closely follow an exmaple from ArcMAP Desktop 10.3.\n",
                "So far it works in ArcGIS Pro, but probably need to update it beyond the print statements.\n",
                "\n",
                "Set basic names"
            ]
        },
        {
            "cell_type": "code",
            "execution_count": 36,
            "metadata": {},
            "outputs": [],
            "source": [
                "import arcpy\n",
                "arcpy.env.workspace = \"D:/jplatt/data/scratch/test.gdb\"\n",
                "arcpy.env.overwriteOutput = True\n",
                "\n",
                "basefc = 'basedata'\n",
                "newfc = 'newdata'\n",
                "mergedfc = 'mergedata'\n"
            ]
        },
        {
            "cell_type": "markdown",
            "metadata": {},
            "source": [
                "Define field mappings object and add the fields from basedata and newdata feature classes"
            ]
        },
        {
            "cell_type": "code",
            "execution_count": 37,
            "metadata": {},
            "outputs": [],
            "source": [
                "fieldMappings = arcpy.FieldMappings()\n",
                "fieldMappings.addTable(basefc)\n",
                "fieldMappings.addTable(newfc)"
            ]
        },
        {
            "cell_type": "markdown",
            "metadata": {},
            "source": [
                "Define field map for the F1 field from both the basedata and newdata feature classes, give the F1 field a new name in the table"
            ]
        },
        {
            "cell_type": "code",
            "execution_count": 38,
            "metadata": {},
            "outputs": [],
            "source": [
                "fldMap_F1 = arcpy.FieldMap()\n",
                "fldMap_F1.addInputField(basefc, \"F1\")\n",
                "fldMap_F1.addInputField(newfc, \"FA\")\n",
                "F1 = fldMap_F1.outputField\n",
                "F1.name = 'Field_1'\n",
                "F1.aliasName = 'Field_1'\n",
                "fldMap_F1.outputField = F1\n",
                "fieldMappings.addFieldMap(fldMap_F1)\n"
            ]
        },
        {
            "cell_type": "markdown",
            "metadata": {},
            "source": [
                "Define field map for the F2 field from both the basedata and newdata feature classes, give the F1 field a new name in the table"
            ]
        },
        {
            "cell_type": "code",
            "execution_count": 39,
            "metadata": {},
            "outputs": [],
            "source": [
                "fldMap_F2 = arcpy.FieldMap()\n",
                "fldMap_F2.addInputField(basefc, \"F2\")\n",
                "fldMap_F2.addInputField(newfc, \"FB\")\n",
                "F2 = fldMap_F2.outputField\n",
                "F2.name = 'Field_2'\n",
                "F2.aliasName = 'Field_2'\n",
                "fldMap_F2.outputField = F2\n",
                "fieldMappings.addFieldMap(fldMap_F2)\n"
            ]
        },
        {
            "cell_type": "markdown",
            "metadata": {},
            "source": [
                "Define field map for the F3 field from both the basedata and newdata feature classes, give the F1 field a new name in the table"
            ]
        },
        {
            "cell_type": "code",
            "execution_count": 40,
            "metadata": {},
            "outputs": [],
            "source": [
                "fldMap_F3 = arcpy.FieldMap()\n",
                "fldMap_F3.addInputField(basefc, \"F3\")\n",
                "fldMap_F3.addInputField(newfc, \"FC\")\n",
                "F3 = fldMap_F3.outputField\n",
                "F3.name = 'Field_3'\n",
                "F3.aliasName = 'Field_3'\n",
                "fldMap_F3.outputField = F3\n",
                "fieldMappings.addFieldMap(fldMap_F3)\n"
            ]
        },
        {
            "cell_type": "markdown",
            "metadata": {},
            "source": [
                "Define field map for the F4 field from both the basedata and newdata feature classes, give the F1 field a new name in the table"
            ]
        },
        {
            "cell_type": "code",
            "execution_count": 41,
            "metadata": {},
            "outputs": [],
            "source": [
                "fldMap_F4 = arcpy.FieldMap()\n",
                "#fldMap_F4.addInputField(basefc, \"F3\")\n",
                "fldMap_F4.addInputField(newfc, \"FD\")\n",
                "F4 = fldMap_F4.outputField\n",
                "F4.name = 'Field_4'\n",
                "F4.aliasName = 'Field_4'\n",
                "fldMap_F4.outputField = F4\n",
                "fieldMappings.addFieldMap(fldMap_F4)\n"
            ]
        },
        {
            "cell_type": "markdown",
            "metadata": {},
            "source": [
                "Now remove all fields from the field mappings object that don't correspond to the field names in the list."
            ]
        },
        {
            "cell_type": "code",
            "execution_count": 42,
            "metadata": {},
            "outputs": [],
            "source": [
                "for field in fieldMappings.fields:\n",
                "    if field.name not in [\"Field_1\",\"Field_2\",\"Field_3\",\"Field_4\"]:\n",
                "        fieldMappings.removeFieldMap(fieldMappings.findFieldMapIndex(field.name))\n"
            ]
        },
        {
            "cell_type": "markdown",
            "metadata": {},
            "source": [
                "And now do the merge with the field map"
            ]
        },
        {
            "cell_type": "code",
            "execution_count": null,
            "metadata": {},
            "outputs": [],
            "source": [
                "arcpy.Merge_management([basefc, newfc],mergedfc,fieldMappings)"
            ]
        },
        {
            "cell_type": "code",
            "execution_count": null,
            "metadata": {},
            "outputs": [],
            "source": [
                "arcpy.Append_management([basefc, newfc],'appendfc','NO_TEST',fieldMappings)"
            ]
        },
        {
            "cell_type": "markdown",
            "metadata": {},
            "source": [
                "### Yet another example\n",
                "not quite working yet, this time from ArcMap 10.8 using a field map in the append tool\n",
                "Basic setup again"
            ]
        },
        {
            "cell_type": "code",
            "execution_count": 30,
            "metadata": {},
            "outputs": [],
            "source": [
                "import arcpy\n",
                "\n",
                "outLocation = \"D:/jplatt/data/scratch/test.gdb\"\n",
                "arcpy.env.workspace = outLocation\n",
                "arcpy.env.overwriteOutput = True\n",
                "\n",
                "basefc = 'basedata'\n",
                "newfc = 'newdata'\n",
                "appendfc = arcpy.CreateFeatureclass_management(outLocation, 'appendfc', 'POLYGON', 'mergedata')"
            ]
        },
        {
            "cell_type": "markdown",
            "metadata": {},
            "source": [
                "Create Field Mappings object and add the appendfc table"
            ]
        },
        {
            "cell_type": "code",
            "execution_count": 31,
            "metadata": {},
            "outputs": [],
            "source": [
                "fieldMappings = arcpy.FieldMappings()\n",
                "fieldMappings.addTable(appendfc)\n"
            ]
        },
        {
            "cell_type": "markdown",
            "metadata": {},
            "source": [
                "Add input fields from the basefc feature class"
            ]
        },
        {
            "cell_type": "code",
            "execution_count": 32,
            "metadata": {},
            "outputs": [],
            "source": [
                "\n",
                "fldMap = arcpy.FieldMap()\n",
                "fldMap.addInputField(basefc, 'F1')\n",
                "fldMap.addInputField(basefc, 'F2')\n",
                "fldMap.addInputField(basefc, 'F3')"
            ]
        },
        {
            "cell_type": "markdown",
            "metadata": {},
            "source": []
        },
        {
            "cell_type": "code",
            "execution_count": 33,
            "metadata": {},
            "outputs": [],
            "source": [
                "\n",
                "newfield_1 = fldMap.outputField\n",
                "newfield_1.name, newfield_1.aliasName, newfield_1.type = 'F1', 'F1', 'SHORT'\n",
                "fldMap.outputField = newfield_1\n",
                "\n",
                "newfield_2 = fldMap.outputField\n",
                "newfield_2.name, newfield_2.aliasName, newfield_2.type = 'F2', 'F2', 'DOUBLE'\n",
                "fldMap.outputField = newfield_2\n",
                "\n",
                "newfield_3 = fldMap.outputField\n",
                "newfield_3.name, newfield_3.aliasName, newfield_3.type, newfield_3.length = 'F3', 'F3', 'TEXT', '10'\n",
                "fldMap.outputField = newfield_3"
            ]
        },
        {
            "cell_type": "code",
            "execution_count": 34,
            "metadata": {},
            "outputs": [],
            "source": [
                "fieldMappings.addFieldMap(fldMap)"
            ]
        },
        {
            "cell_type": "code",
            "execution_count": null,
            "metadata": {},
            "outputs": [],
            "source": [
                "\n",
                "arcpy.Append_management(basefc, appendfc, 'TEST', fieldMappings)"
            ]
        },
        {
            "cell_type": "code",
            "execution_count": null,
            "metadata": {},
            "outputs": [],
            "source": []
        }
    ],
    "metadata": {
        "interpreter": {
            "hash": "7ee7765acde157d0553d062bf8a3e932bd58abec0090ecc73906b90319e40bff"
        },
        "kernelspec": {
            "display_name": "Python 3.7.10 64-bit (system)",
            "name": "python3"
        },
        "language_info": {
            "codemirror_mode": {
                "name": "ipython",
                "version": 3
            },
            "file_extension": ".py",
            "mimetype": "text/x-python",
            "name": "python",
            "nbconvert_exporter": "python",
            "pygments_lexer": "ipython3",
            "version": "3.7.10"
        },
        "orig_nbformat": 4
    },
    "nbformat": 4,
    "nbformat_minor": 2
}
